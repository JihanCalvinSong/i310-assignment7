{
 "cells": [
  {
   "cell_type": "markdown",
   "id": "d0ad3a01",
   "metadata": {},
   "source": [
    "## Assignment 7: Data Curation and Analysis \n",
    "\n",
    "### Jihan Song (js97924)\n",
    "\n",
    "In this project, I will get statistics of top 100 football players based on their fantasy points in 2022-23 season from the website (https://www.pro-football-reference.com/years/2022/fantasy.htm) and derive few insights with visualization.\n",
    "\n",
    "Fantasy points can be earned or lost by a player by Passing, Rushing, Receving Yards and Touchdowns (TDs). "
   ]
  },
  {
   "cell_type": "markdown",
   "id": "f64f113f",
   "metadata": {},
   "source": [
    "### 1. ETL"
   ]
  },
  {
   "cell_type": "code",
   "execution_count": 97,
   "id": "5b903dc5",
   "metadata": {},
   "outputs": [],
   "source": [
    "from bs4 import BeautifulSoup as bs\n",
    "import pandas as pd\n",
    "import requests\n",
    "import scipy\n",
    "from matplotlib import pyplot as plt"
   ]
  },
  {
   "cell_type": "markdown",
   "id": "b2f0f45e",
   "metadata": {},
   "source": [
    "#### 1.1 Data Extraction\n",
    "\n",
    "From the website above, I am going to extract the data using BeautifulSoup (web-scraping API). \n",
    "\n",
    "code help from https://github.com/pvicks585/NFL-WebScrape/blob/main/Webscraping%20NFL%20Player%20Data.ipynb"
   ]
  },
  {
   "cell_type": "code",
   "execution_count": 98,
   "id": "6ef6c25e",
   "metadata": {},
   "outputs": [],
   "source": [
    "page = requests.get(\"https://www.pro-football-reference.com/years/2022/fantasy.htm\")\n",
    "soup = bs(page.content, \"html.parser\")"
   ]
  },
  {
   "cell_type": "code",
   "execution_count": 99,
   "id": "7fb8ff04",
   "metadata": {},
   "outputs": [
    {
     "name": "stdout",
     "output_type": "stream",
     "text": [
      "['Player', 'Tm', 'FantPos', 'Age', 'G', 'GS', 'Cmp', 'Att', 'Yds', 'TD', 'Int', 'Att', 'Yds', 'Y/A', 'TD', 'Tgt', 'Rec', 'Yds', 'Y/R', 'TD', 'Fmb', 'FL', 'TD', '2PM', '2PP', 'FantPt', 'PPR', 'DKPt', 'FDPt', 'VBD', 'PosRank', 'OvRank']\n"
     ]
    }
   ],
   "source": [
    "header = [th.getText() for th in soup.findAll('tr')[1].findAll('th')]\n",
    "header = header[1:]\n",
    "print(header)"
   ]
  },
  {
   "cell_type": "code",
   "execution_count": 100,
   "id": "c8a4105e",
   "metadata": {},
   "outputs": [],
   "source": [
    "rows = soup.findAll('tr', class_ = lambda table_rows: table_rows != \"thead\") \n",
    "player_stats = [[td.getText() for td in rows[i].findAll('td')]\n",
    "                for i in range(len(rows))]\n",
    "player_stats = player_stats[2:]"
   ]
  },
  {
   "cell_type": "code",
   "execution_count": 34,
   "id": "08c9ab38",
   "metadata": {},
   "outputs": [],
   "source": [
    "stats = pd.DataFrame(player_stats, columns = header)\n",
    "stats = stats[['Player','FantPos','Age','TD','Int','FantPt']] #Extract the columns that I am interested in & rename"
   ]
  },
  {
   "cell_type": "code",
   "execution_count": 35,
   "id": "a70a85b7",
   "metadata": {},
   "outputs": [],
   "source": [
    "stats.columns = ['Player', 'Position', 'Age', 'PassingTD','RushingTD','ReceivingTD','Non_passingTD','Int','Points']"
   ]
  },
  {
   "cell_type": "markdown",
   "id": "a7a0e326",
   "metadata": {},
   "source": [
    "#### 1.2 Data Transformation\n",
    "\n",
    "We have to convert string into float for numerical analysis and clear all unncessary parts of strings. If there are blank, I will switch to NA and erase the row for the better analysis. "
   ]
  },
  {
   "cell_type": "code",
   "execution_count": 101,
   "id": "ddaf0e9d",
   "metadata": {},
   "outputs": [
    {
     "data": {
      "text/html": [
       "<div>\n",
       "<style scoped>\n",
       "    .dataframe tbody tr th:only-of-type {\n",
       "        vertical-align: middle;\n",
       "    }\n",
       "\n",
       "    .dataframe tbody tr th {\n",
       "        vertical-align: top;\n",
       "    }\n",
       "\n",
       "    .dataframe thead th {\n",
       "        text-align: right;\n",
       "    }\n",
       "</style>\n",
       "<table border=\"1\" class=\"dataframe\">\n",
       "  <thead>\n",
       "    <tr style=\"text-align: right;\">\n",
       "      <th></th>\n",
       "      <th>Player</th>\n",
       "      <th>Position</th>\n",
       "      <th>Age</th>\n",
       "      <th>PassingTD</th>\n",
       "      <th>RushingTD</th>\n",
       "      <th>ReceivingTD</th>\n",
       "      <th>Non_passingTD</th>\n",
       "      <th>Int</th>\n",
       "      <th>Points</th>\n",
       "    </tr>\n",
       "  </thead>\n",
       "  <tbody>\n",
       "    <tr>\n",
       "      <th>0</th>\n",
       "      <td>Patrick Mahomes</td>\n",
       "      <td>QB</td>\n",
       "      <td>27.0</td>\n",
       "      <td>41.0</td>\n",
       "      <td>4.0</td>\n",
       "      <td>0.0</td>\n",
       "      <td>4.0</td>\n",
       "      <td>12.0</td>\n",
       "      <td>416.0</td>\n",
       "    </tr>\n",
       "    <tr>\n",
       "      <th>1</th>\n",
       "      <td>Josh Jacobs</td>\n",
       "      <td>RB</td>\n",
       "      <td>24.0</td>\n",
       "      <td>0.0</td>\n",
       "      <td>12.0</td>\n",
       "      <td>0.0</td>\n",
       "      <td>12.0</td>\n",
       "      <td>0.0</td>\n",
       "      <td>275.0</td>\n",
       "    </tr>\n",
       "    <tr>\n",
       "      <th>2</th>\n",
       "      <td>Christian McCaffrey</td>\n",
       "      <td>RB</td>\n",
       "      <td>26.0</td>\n",
       "      <td>1.0</td>\n",
       "      <td>8.0</td>\n",
       "      <td>5.0</td>\n",
       "      <td>13.0</td>\n",
       "      <td>0.0</td>\n",
       "      <td>271.0</td>\n",
       "    </tr>\n",
       "    <tr>\n",
       "      <th>3</th>\n",
       "      <td>Derrick Henry</td>\n",
       "      <td>RB</td>\n",
       "      <td>28.0</td>\n",
       "      <td>1.0</td>\n",
       "      <td>13.0</td>\n",
       "      <td>0.0</td>\n",
       "      <td>13.0</td>\n",
       "      <td>0.0</td>\n",
       "      <td>270.0</td>\n",
       "    </tr>\n",
       "    <tr>\n",
       "      <th>4</th>\n",
       "      <td>Justin Jefferson</td>\n",
       "      <td>WR</td>\n",
       "      <td>23.0</td>\n",
       "      <td>0.0</td>\n",
       "      <td>1.0</td>\n",
       "      <td>8.0</td>\n",
       "      <td>9.0</td>\n",
       "      <td>0.0</td>\n",
       "      <td>241.0</td>\n",
       "    </tr>\n",
       "  </tbody>\n",
       "</table>\n",
       "</div>"
      ],
      "text/plain": [
       "                Player Position   Age  PassingTD  RushingTD  ReceivingTD  \\\n",
       "0      Patrick Mahomes       QB  27.0       41.0        4.0          0.0   \n",
       "1          Josh Jacobs       RB  24.0        0.0       12.0          0.0   \n",
       "2  Christian McCaffrey       RB  26.0        1.0        8.0          5.0   \n",
       "3       Derrick Henry        RB  28.0        1.0       13.0          0.0   \n",
       "4     Justin Jefferson       WR  23.0        0.0        1.0          8.0   \n",
       "\n",
       "   Non_passingTD   Int  Points  \n",
       "0            4.0  12.0   416.0  \n",
       "1           12.0   0.0   275.0  \n",
       "2           13.0   0.0   271.0  \n",
       "3           13.0   0.0   270.0  \n",
       "4            9.0   0.0   241.0  "
      ]
     },
     "execution_count": 101,
     "metadata": {},
     "output_type": "execute_result"
    }
   ],
   "source": [
    "import numpy as np\n",
    "stats = stats.head(100)\n",
    "stats = stats.replace('', np.nan, regex=True)\n",
    "stats = stats.drop_duplicates()\n",
    "stats = stats.dropna()\n",
    "\n",
    "stats.head()"
   ]
  },
  {
   "cell_type": "code",
   "execution_count": 102,
   "id": "43e97b6b",
   "metadata": {},
   "outputs": [],
   "source": [
    "def clearn_string_and_convert(s):\n",
    "    try:\n",
    "        s = s.replace(\"+\",\"\")\n",
    "        s = s.replace(\"*\",\"\")\n",
    "        s = float(s)\n",
    "    except:\n",
    "        None\n",
    "    return s"
   ]
  },
  {
   "cell_type": "code",
   "execution_count": 103,
   "id": "34a88ac1",
   "metadata": {},
   "outputs": [],
   "source": [
    "stats[\"Player\"] = stats[\"Player\"].apply(clearn_string_and_convert)\n",
    "stats[\"Position\"] = stats[\"Position\"].apply(clearn_string_and_convert)\n",
    "stats[\"Age\"] = stats[\"Age\"].apply(clearn_string_and_convert)\n",
    "stats[\"PassingTD\"] = stats[\"PassingTD\"].apply(clearn_string_and_convert)\n",
    "stats[\"RushingTD\"] = stats[\"RushingTD\"].apply(clearn_string_and_convert)\n",
    "stats[\"ReceivingTD\"] = stats[\"ReceivingTD\"].apply(clearn_string_and_convert)\n",
    "stats[\"Non_passingTD\"] = stats[\"Non_passingTD\"].apply(clearn_string_and_convert)\n",
    "stats[\"Int\"] = stats[\"Int\"].apply(clearn_string_and_convert)\n",
    "stats[\"Points\"] = stats[\"Points\"].apply(clearn_string_and_convert)"
   ]
  },
  {
   "cell_type": "code",
   "execution_count": 105,
   "id": "5ac63623",
   "metadata": {},
   "outputs": [
    {
     "data": {
      "text/html": [
       "<div>\n",
       "<style scoped>\n",
       "    .dataframe tbody tr th:only-of-type {\n",
       "        vertical-align: middle;\n",
       "    }\n",
       "\n",
       "    .dataframe tbody tr th {\n",
       "        vertical-align: top;\n",
       "    }\n",
       "\n",
       "    .dataframe thead th {\n",
       "        text-align: right;\n",
       "    }\n",
       "</style>\n",
       "<table border=\"1\" class=\"dataframe\">\n",
       "  <thead>\n",
       "    <tr style=\"text-align: right;\">\n",
       "      <th></th>\n",
       "      <th>Player</th>\n",
       "      <th>Position</th>\n",
       "      <th>Age</th>\n",
       "      <th>PassingTD</th>\n",
       "      <th>RushingTD</th>\n",
       "      <th>ReceivingTD</th>\n",
       "      <th>Non_passingTD</th>\n",
       "      <th>Int</th>\n",
       "      <th>Points</th>\n",
       "    </tr>\n",
       "  </thead>\n",
       "  <tbody>\n",
       "    <tr>\n",
       "      <th>0</th>\n",
       "      <td>Patrick Mahomes</td>\n",
       "      <td>QB</td>\n",
       "      <td>27.0</td>\n",
       "      <td>41.0</td>\n",
       "      <td>4.0</td>\n",
       "      <td>0.0</td>\n",
       "      <td>4.0</td>\n",
       "      <td>12.0</td>\n",
       "      <td>416.0</td>\n",
       "    </tr>\n",
       "    <tr>\n",
       "      <th>1</th>\n",
       "      <td>Josh Jacobs</td>\n",
       "      <td>RB</td>\n",
       "      <td>24.0</td>\n",
       "      <td>0.0</td>\n",
       "      <td>12.0</td>\n",
       "      <td>0.0</td>\n",
       "      <td>12.0</td>\n",
       "      <td>0.0</td>\n",
       "      <td>275.0</td>\n",
       "    </tr>\n",
       "    <tr>\n",
       "      <th>2</th>\n",
       "      <td>Christian McCaffrey</td>\n",
       "      <td>RB</td>\n",
       "      <td>26.0</td>\n",
       "      <td>1.0</td>\n",
       "      <td>8.0</td>\n",
       "      <td>5.0</td>\n",
       "      <td>13.0</td>\n",
       "      <td>0.0</td>\n",
       "      <td>271.0</td>\n",
       "    </tr>\n",
       "    <tr>\n",
       "      <th>3</th>\n",
       "      <td>Derrick Henry</td>\n",
       "      <td>RB</td>\n",
       "      <td>28.0</td>\n",
       "      <td>1.0</td>\n",
       "      <td>13.0</td>\n",
       "      <td>0.0</td>\n",
       "      <td>13.0</td>\n",
       "      <td>0.0</td>\n",
       "      <td>270.0</td>\n",
       "    </tr>\n",
       "    <tr>\n",
       "      <th>4</th>\n",
       "      <td>Justin Jefferson</td>\n",
       "      <td>WR</td>\n",
       "      <td>23.0</td>\n",
       "      <td>0.0</td>\n",
       "      <td>1.0</td>\n",
       "      <td>8.0</td>\n",
       "      <td>9.0</td>\n",
       "      <td>0.0</td>\n",
       "      <td>241.0</td>\n",
       "    </tr>\n",
       "  </tbody>\n",
       "</table>\n",
       "</div>"
      ],
      "text/plain": [
       "                Player Position   Age  PassingTD  RushingTD  ReceivingTD  \\\n",
       "0      Patrick Mahomes       QB  27.0       41.0        4.0          0.0   \n",
       "1          Josh Jacobs       RB  24.0        0.0       12.0          0.0   \n",
       "2  Christian McCaffrey       RB  26.0        1.0        8.0          5.0   \n",
       "3       Derrick Henry        RB  28.0        1.0       13.0          0.0   \n",
       "4     Justin Jefferson       WR  23.0        0.0        1.0          8.0   \n",
       "\n",
       "   Non_passingTD   Int  Points  \n",
       "0            4.0  12.0   416.0  \n",
       "1           12.0   0.0   275.0  \n",
       "2           13.0   0.0   271.0  \n",
       "3           13.0   0.0   270.0  \n",
       "4            9.0   0.0   241.0  "
      ]
     },
     "execution_count": 105,
     "metadata": {},
     "output_type": "execute_result"
    }
   ],
   "source": [
    "stats.head()"
   ]
  },
  {
   "cell_type": "code",
   "execution_count": 108,
   "id": "a65ec422",
   "metadata": {},
   "outputs": [
    {
     "data": {
      "text/html": [
       "<div>\n",
       "<style scoped>\n",
       "    .dataframe tbody tr th:only-of-type {\n",
       "        vertical-align: middle;\n",
       "    }\n",
       "\n",
       "    .dataframe tbody tr th {\n",
       "        vertical-align: top;\n",
       "    }\n",
       "\n",
       "    .dataframe thead th {\n",
       "        text-align: right;\n",
       "    }\n",
       "</style>\n",
       "<table border=\"1\" class=\"dataframe\">\n",
       "  <thead>\n",
       "    <tr style=\"text-align: right;\">\n",
       "      <th></th>\n",
       "      <th>Age</th>\n",
       "      <th>PassingTD</th>\n",
       "      <th>RushingTD</th>\n",
       "      <th>ReceivingTD</th>\n",
       "      <th>Non_passingTD</th>\n",
       "      <th>Int</th>\n",
       "      <th>Points</th>\n",
       "    </tr>\n",
       "  </thead>\n",
       "  <tbody>\n",
       "    <tr>\n",
       "      <th>count</th>\n",
       "      <td>98.000000</td>\n",
       "      <td>98.000000</td>\n",
       "      <td>98.000000</td>\n",
       "      <td>98.000000</td>\n",
       "      <td>98.000000</td>\n",
       "      <td>98.000000</td>\n",
       "      <td>98.000000</td>\n",
       "    </tr>\n",
       "    <tr>\n",
       "      <th>mean</th>\n",
       "      <td>26.704082</td>\n",
       "      <td>6.153061</td>\n",
       "      <td>3.091837</td>\n",
       "      <td>3.357143</td>\n",
       "      <td>6.459184</td>\n",
       "      <td>2.826531</td>\n",
       "      <td>185.867347</td>\n",
       "    </tr>\n",
       "    <tr>\n",
       "      <th>std</th>\n",
       "      <td>3.922468</td>\n",
       "      <td>10.589191</td>\n",
       "      <td>4.013089</td>\n",
       "      <td>3.610552</td>\n",
       "      <td>3.877422</td>\n",
       "      <td>4.751615</td>\n",
       "      <td>68.779588</td>\n",
       "    </tr>\n",
       "    <tr>\n",
       "      <th>min</th>\n",
       "      <td>22.000000</td>\n",
       "      <td>0.000000</td>\n",
       "      <td>0.000000</td>\n",
       "      <td>0.000000</td>\n",
       "      <td>0.000000</td>\n",
       "      <td>0.000000</td>\n",
       "      <td>85.000000</td>\n",
       "    </tr>\n",
       "    <tr>\n",
       "      <th>25%</th>\n",
       "      <td>24.000000</td>\n",
       "      <td>0.000000</td>\n",
       "      <td>0.000000</td>\n",
       "      <td>0.000000</td>\n",
       "      <td>4.000000</td>\n",
       "      <td>0.000000</td>\n",
       "      <td>137.750000</td>\n",
       "    </tr>\n",
       "    <tr>\n",
       "      <th>50%</th>\n",
       "      <td>26.000000</td>\n",
       "      <td>0.000000</td>\n",
       "      <td>1.000000</td>\n",
       "      <td>2.000000</td>\n",
       "      <td>6.000000</td>\n",
       "      <td>0.000000</td>\n",
       "      <td>168.500000</td>\n",
       "    </tr>\n",
       "    <tr>\n",
       "      <th>75%</th>\n",
       "      <td>28.000000</td>\n",
       "      <td>13.750000</td>\n",
       "      <td>5.000000</td>\n",
       "      <td>6.000000</td>\n",
       "      <td>9.000000</td>\n",
       "      <td>6.000000</td>\n",
       "      <td>223.500000</td>\n",
       "    </tr>\n",
       "    <tr>\n",
       "      <th>max</th>\n",
       "      <td>45.000000</td>\n",
       "      <td>41.000000</td>\n",
       "      <td>17.000000</td>\n",
       "      <td>14.000000</td>\n",
       "      <td>18.000000</td>\n",
       "      <td>15.000000</td>\n",
       "      <td>416.000000</td>\n",
       "    </tr>\n",
       "  </tbody>\n",
       "</table>\n",
       "</div>"
      ],
      "text/plain": [
       "             Age  PassingTD  RushingTD  ReceivingTD  Non_passingTD        Int  \\\n",
       "count  98.000000  98.000000  98.000000    98.000000      98.000000  98.000000   \n",
       "mean   26.704082   6.153061   3.091837     3.357143       6.459184   2.826531   \n",
       "std     3.922468  10.589191   4.013089     3.610552       3.877422   4.751615   \n",
       "min    22.000000   0.000000   0.000000     0.000000       0.000000   0.000000   \n",
       "25%    24.000000   0.000000   0.000000     0.000000       4.000000   0.000000   \n",
       "50%    26.000000   0.000000   1.000000     2.000000       6.000000   0.000000   \n",
       "75%    28.000000  13.750000   5.000000     6.000000       9.000000   6.000000   \n",
       "max    45.000000  41.000000  17.000000    14.000000      18.000000  15.000000   \n",
       "\n",
       "           Points  \n",
       "count   98.000000  \n",
       "mean   185.867347  \n",
       "std     68.779588  \n",
       "min     85.000000  \n",
       "25%    137.750000  \n",
       "50%    168.500000  \n",
       "75%    223.500000  \n",
       "max    416.000000  "
      ]
     },
     "execution_count": 108,
     "metadata": {},
     "output_type": "execute_result"
    }
   ],
   "source": [
    "stats.describe()"
   ]
  },
  {
   "cell_type": "markdown",
   "id": "a0a9de70",
   "metadata": {},
   "source": [
    "#### 1.3 Data Load\n",
    "\n",
    "Then I will save the final data into my local directory for future use."
   ]
  },
  {
   "cell_type": "code",
   "execution_count": 106,
   "id": "66e86a23",
   "metadata": {},
   "outputs": [],
   "source": [
    "stats.to_csv(\"FantasyFootball2022.csv\")"
   ]
  },
  {
   "cell_type": "markdown",
   "id": "74539517",
   "metadata": {},
   "source": [
    "### 2. Data Visualization "
   ]
  },
  {
   "cell_type": "code",
   "execution_count": 52,
   "id": "0dbdcc3d",
   "metadata": {},
   "outputs": [
    {
     "data": {
      "text/plain": [
       "<AxesSubplot: >"
      ]
     },
     "execution_count": 52,
     "metadata": {},
     "output_type": "execute_result"
    },
    {
     "data": {
      "image/png": "[encoded data removed]",
      "text/plain": [
       "<Figure size 640x480 with 1 Axes>"
      ]
     },
     "metadata": {},
     "output_type": "display_data"
    }
   ],
   "source": [
    "stats[\"Points\"].hist(bins = 10)"
   ]
  },
  {
   "cell_type": "code",
   "execution_count": 49,
   "id": "c28cd579",
   "metadata": {},
   "outputs": [
    {
     "data": {
      "text/plain": [
       "<AxesSubplot: >"
      ]
     },
     "execution_count": 49,
     "metadata": {},
     "output_type": "execute_result"
    },
    {
     "data": {
      "image/png": "[encoded data removed]",
      "text/plain": [
       "<Figure size 640x480 with 1 Axes>"
      ]
     },
     "metadata": {},
     "output_type": "display_data"
    }
   ],
   "source": [
    "stats[\"Age\"].hist(bins = 15)"
   ]
  },
  {
   "cell_type": "markdown",
   "id": "d9949ed3",
   "metadata": {},
   "source": [
    "From two of histograms, we could find points and age have both bell on the left side having tail on the right (skewed right).  "
   ]
  },
  {
   "cell_type": "code",
   "execution_count": 107,
   "id": "26931d11",
   "metadata": {},
   "outputs": [
    {
     "name": "stdout",
     "output_type": "stream",
     "text": [
      "0.7131363973708613\n",
      "0.4275520304144892\n",
      "0.1530864701474553\n",
      "0.5620252264447111\n"
     ]
    }
   ],
   "source": [
    "from scipy.stats import pearsonr\n",
    "\n",
    "p = pearsonr(stats[\"PassingTD\"],stats[\"Points\"])\n",
    "print (p[0])\n",
    "p = pearsonr(stats[\"RushingTD\"],stats[\"Points\"])\n",
    "print (p[0])\n",
    "p = pearsonr(stats[\"Age\"],stats[\"Points\"])\n",
    "print (p[0])\n",
    "p = pearsonr(stats[\"Int\"],stats[\"Points\"])\n",
    "print (p[0])"
   ]
  },
  {
   "cell_type": "markdown",
   "id": "56558297",
   "metadata": {},
   "source": [
    "Pearson Correlation gives that...\n",
    "\n",
    "[1] PassingTD and Points have about 0.71. This is very strong linear correlation, which makes sense since TD gives the most points. \n",
    "\n",
    "[2] RushingTD and Points have about 0.42. This is pretty strong linear correlation. \n",
    "\n",
    "[3] Age and Points have about 0.15. This is very weak correlation.\n",
    "\n",
    "[4] Int and Points have about 0.56. This is pretty strong. This is pretty interesting considering that interception takes away your point not give."
   ]
  },
  {
   "cell_type": "code",
   "execution_count": 94,
   "id": "b59bb573",
   "metadata": {},
   "outputs": [
    {
     "data": {
      "text/plain": [
       "Text(0.5, 1.0, 'Position vs. Average Points')"
      ]
     },
     "execution_count": 94,
     "metadata": {},
     "output_type": "execute_result"
    },
    {
     "data": {
      "image/png": "[encoded data removed]",
      "text/plain": [
       "<Figure size 640x480 with 1 Axes>"
      ]
     },
     "metadata": {},
     "output_type": "display_data"
    }
   ],
   "source": [
    "import matplotlib.pyplot as plt\n",
    "\n",
    "dictionary = {\"QB\":[],\"RB\":[],\"WR\":[],\"TE\":[]}\n",
    "\n",
    "for i in range(len(stats[\"Position\"])):\n",
    "    try:\n",
    "        dictionary[stats[\"Position\"][i]].append(stats[\"Points\"][i])\n",
    "    except:\n",
    "        None\n",
    "    \n",
    "QB_avg = np.average(dictionary[\"QB\"])\n",
    "RB_avg = np.average(dictionary[\"RB\"])\n",
    "WR_avg = np.average(dictionary[\"WR\"])\n",
    "TE_avg = np.average(dictionary[\"TE\"])\n",
    "\n",
    "avg_dic = {\"QB\":QB_avg, \"RB\": RB_avg, \"WR\": WR_avg, \"TE\":TE_avg}\n",
    "\n",
    "plt.bar(avg_dic.keys(),avg_dic.values(), color ='#BF5700', width = 0.4)\n",
    "\n",
    "plt.xlabel(\"Position\")\n",
    "plt.ylabel(\"Average Points\")\n",
    "\n",
    "plt.title(\"Position vs. Average Points\")"
   ]
  },
  {
   "cell_type": "markdown",
   "id": "2cd077fa",
   "metadata": {},
   "source": [
    "I calculated the average score for each position and made the bar plot. This bar plot suggests that average fantasy points for positions are ranked as QB (quarterback), RB (runningback), WR (Wide Receiver), TE (Tight End). "
   ]
  },
  {
   "cell_type": "code",
   "execution_count": 96,
   "id": "c38ffe45",
   "metadata": {},
   "outputs": [
    {
     "data": {
      "text/plain": [
       "<matplotlib.collections.PathCollection at 0x7fd3c3010130>"
      ]
     },
     "execution_count": 96,
     "metadata": {},
     "output_type": "execute_result"
    },
    {
     "data": {
      "image/png": "[encoded data removed]",
      "text/plain": [
       "<Figure size 640x480 with 1 Axes>"
      ]
     },
     "metadata": {},
     "output_type": "display_data"
    }
   ],
   "source": [
    "plt.scatter(stats[\"PassingTD\"],stats[\"Points\"], marker='o')"
   ]
  },
  {
   "cell_type": "markdown",
   "id": "d68f8280",
   "metadata": {},
   "source": [
    "This scatter plot has two big patterns to consider. First, there is a straight line going up where passing TD is zero. This happens because there are lots of ways to acquire points without having passing TD. Second, there is a pretty strong linearity which suggests the more passingTD, the higher points were. "
   ]
  }
 ],
 "metadata": {
  "kernelspec": {
   "display_name": "Python 3 (ipykernel)",
   "language": "python",
   "name": "python3"
  },
  "language_info": {
   "codemirror_mode": {
    "name": "ipython",
    "version": 3
   },
   "file_extension": ".py",
   "mimetype": "text/x-python",
   "name": "python",
   "nbconvert_exporter": "python",
   "pygments_lexer": "ipython3",
   "version": "3.10.9"
  }
 },
 "nbformat": 4,
 "nbformat_minor": 5
}
